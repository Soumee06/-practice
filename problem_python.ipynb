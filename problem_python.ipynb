{
  "nbformat": 4,
  "nbformat_minor": 0,
  "metadata": {
    "colab": {
      "name": "problem python.ipynb",
      "provenance": []
    },
    "kernelspec": {
      "name": "python3",
      "display_name": "Python 3"
    },
    "language_info": {
      "name": "python"
    }
  },
  "cells": [
    {
      "cell_type": "code",
      "execution_count": 2,
      "metadata": {
        "colab": {
          "base_uri": "https://localhost:8080/"
        },
        "id": "HPYzfeK5e-ZV",
        "outputId": "d77747cb-d826-47c6-e235-7e41e81d2836"
      },
      "outputs": [
        {
          "output_type": "stream",
          "name": "stdout",
          "text": [
            "Overwriting script.py\n"
          ]
        }
      ],
      "source": [
        "%%writefile script.py\n",
        "input1=int(intput(\"Enter a num1\"))\n",
        "input2=int(input(\"Enter a num2\"))\n",
        "if num1>num2:\n",
        "  print (num1 is the largest)\n",
        "else:\n",
        "    print( num2 is the largest)"
      ]
    },
    {
      "cell_type": "code",
      "source": [
        "%%writefile -a script.py\n",
        "if num1<num2:\n",
        "  print(num1 is smallest)\n",
        "else:\n",
        "  print(num2 is smallest)"
      ],
      "metadata": {
        "colab": {
          "base_uri": "https://localhost:8080/"
        },
        "id": "gftsDvE4fFtO",
        "outputId": "f0c7f9eb-8513-4c50-afe3-d22dff5730cd"
      },
      "execution_count": 3,
      "outputs": [
        {
          "output_type": "stream",
          "name": "stdout",
          "text": [
            "Appending to script.py\n"
          ]
        }
      ]
    },
    {
      "cell_type": "code",
      "source": [
        ""
      ],
      "metadata": {
        "id": "j4on47cIfYtp"
      },
      "execution_count": null,
      "outputs": []
    }
  ]
}